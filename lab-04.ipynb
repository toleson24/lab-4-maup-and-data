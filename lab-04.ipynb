{
 "cells": [
  {
   "cell_type": "markdown",
   "id": "ad2f187d-98bc-48df-95ff-daa09003328d",
   "metadata": {},
   "source": [
    "Imports and notebook settings"
   ]
  },
  {
   "cell_type": "code",
   "execution_count": 1,
   "id": "356b1481-e31a-415d-9995-62528c60559f",
   "metadata": {
    "is_executing": true
   },
   "outputs": [],
   "source": [
    "import string\n",
    "import pandas as pd\n",
    "import geopandas as gpd\n",
    "import maup\n",
    "import time"
   ]
  },
  {
   "cell_type": "code",
   "execution_count": 2,
   "id": "48955c36407903fa",
   "metadata": {
    "collapsed": false,
    "is_executing": true,
    "jupyter": {
     "outputs_hidden": false
    }
   },
   "outputs": [],
   "source": [
    "maup.progress.enabled = True"
   ]
  },
  {
   "cell_type": "markdown",
   "id": "963086fd-5e4a-4e3f-bfcb-2eab8ebf3e71",
   "metadata": {},
   "source": [
    "Modularized code from IL_MAUP.ipynb from lecture"
   ]
  },
  {
   "cell_type": "code",
   "execution_count": 3,
   "id": "f74516c09571ee24",
   "metadata": {
    "collapsed": false,
    "is_executing": true,
    "jupyter": {
     "outputs_hidden": false
    }
   },
   "outputs": [],
   "source": [
    "def read_shape_file(filename: string) -> gpd.GeoDataFrame:\n",
    "    start_time = time.time()\n",
    "    df = gpd.read_file(filename)\n",
    "    end_time = time.time()\n",
    "    print(f\"The time to import {filename} is: {(end_time - start_time) / 60} mins\")\n",
    "    return df"
   ]
  },
  {
   "cell_type": "markdown",
   "id": "9efa0c2f-a9de-415b-8b0f-057197fff032",
   "metadata": {},
   "source": [
    "Read shapfile data from sources. Replace with your local path the downloaded data."
   ]
  },
  {
   "cell_type": "markdown",
   "id": "3223c45e-7fcd-416f-a1fd-5464e42e5f73",
   "metadata": {},
   "source": [
    "This analysis was conducted using data from the Redistricting Data Hub.\n",
    "https://redistrictingdatahub.org/state/louisiana/#types"
   ]
  },
  {
   "cell_type": "code",
   "execution_count": 4,
   "id": "0e32f5d4-eaea-4856-a3e4-47ade664461f",
   "metadata": {},
   "outputs": [],
   "source": [
    "population_filepath = \"la_pl2020_b/la_pl2020_p2_b.shp\"\n",
    "vap_filepath = \"la_pl2020_b/la_pl2020_p4_b.shp\"\n",
    "election_filepath = \"la_vest_20/la_vest_20.shp\"\n",
    "cong_filepath = \"la_cong_adopted_2024/Act_2_1st_ES_(2024)_-_Congress.shp\""
   ]
  },
  {
   "cell_type": "code",
   "execution_count": 5,
   "id": "2d24d3ebbb24c915",
   "metadata": {
    "collapsed": false,
    "is_executing": true,
    "jupyter": {
     "outputs_hidden": false
    }
   },
   "outputs": [
    {
     "name": "stdout",
     "output_type": "stream",
     "text": [
      "The time to import la_pl2020_b/la_pl2020_p2_b.shp is: 3.273177413145701 mins\n",
      "The time to import la_pl2020_b/la_pl2020_p4_b.shp is: 3.277686067422231 mins\n",
      "The time to import la_vest_20/la_vest_20.shp is: 0.04520311752955119 mins\n",
      "The time to import la_cong_adopted_2024/Act_2_1st_ES_(2024)_-_Congress.shp is: 0.00639349619547526 mins\n"
     ]
    }
   ],
   "source": [
    "population_df = read_shape_file(population_filepath)\n",
    "vap_df = read_shape_file(vap_filepath)\n",
    "election_df = read_shape_file(election_filepath)\n",
    "cong_df = read_shape_file(cong_filepath)"
   ]
  },
  {
   "cell_type": "markdown",
   "id": "77050df8-54f3-45ae-a0e3-34c6fc28cf8e",
   "metadata": {},
   "source": [
    "Investigate initial dataframes (e.g. column names, shape, etc)"
   ]
  },
  {
   "cell_type": "code",
   "execution_count": 6,
   "id": "9eec5742-8d49-4f27-bf9d-d8bb2231e520",
   "metadata": {},
   "outputs": [
    {
     "name": "stdout",
     "output_type": "stream",
     "text": [
      "Index(['GEOID20', 'SUMLEV', 'LOGRECNO', 'GEOID', 'COUNTY', 'P0020001',\n",
      "       'P0020002', 'P0020003', 'P0020004', 'P0020005', 'P0020006', 'P0020007',\n",
      "       'P0020008', 'P0020009', 'P0020010', 'P0020011', 'P0020012', 'P0020013',\n",
      "       'P0020014', 'P0020015', 'P0020016', 'P0020017', 'P0020018', 'P0020019',\n",
      "       'P0020020', 'P0020021', 'P0020022', 'P0020023', 'P0020024', 'P0020025',\n",
      "       'P0020026', 'P0020027', 'P0020028', 'P0020029', 'P0020030', 'P0020031',\n",
      "       'P0020032', 'P0020033', 'P0020034', 'P0020035', 'P0020036', 'P0020037',\n",
      "       'P0020038', 'P0020039', 'P0020040', 'P0020041', 'P0020042', 'P0020043',\n",
      "       'P0020044', 'P0020045', 'P0020046', 'P0020047', 'P0020048', 'P0020049',\n",
      "       'P0020050', 'P0020051', 'P0020052', 'P0020053', 'P0020054', 'P0020055',\n",
      "       'P0020056', 'P0020057', 'P0020058', 'P0020059', 'P0020060', 'P0020061',\n",
      "       'P0020062', 'P0020063', 'P0020064', 'P0020065', 'P0020066', 'P0020067',\n",
      "       'P0020068', 'P0020069', 'P0020070', 'P0020071', 'P0020072', 'P0020073',\n",
      "       'geometry'],\n",
      "      dtype='object')\n",
      "Index(['GEOID20', 'SUMLEV', 'LOGRECNO', 'GEOID', 'COUNTY', 'P0040001',\n",
      "       'P0040002', 'P0040003', 'P0040004', 'P0040005', 'P0040006', 'P0040007',\n",
      "       'P0040008', 'P0040009', 'P0040010', 'P0040011', 'P0040012', 'P0040013',\n",
      "       'P0040014', 'P0040015', 'P0040016', 'P0040017', 'P0040018', 'P0040019',\n",
      "       'P0040020', 'P0040021', 'P0040022', 'P0040023', 'P0040024', 'P0040025',\n",
      "       'P0040026', 'P0040027', 'P0040028', 'P0040029', 'P0040030', 'P0040031',\n",
      "       'P0040032', 'P0040033', 'P0040034', 'P0040035', 'P0040036', 'P0040037',\n",
      "       'P0040038', 'P0040039', 'P0040040', 'P0040041', 'P0040042', 'P0040043',\n",
      "       'P0040044', 'P0040045', 'P0040046', 'P0040047', 'P0040048', 'P0040049',\n",
      "       'P0040050', 'P0040051', 'P0040052', 'P0040053', 'P0040054', 'P0040055',\n",
      "       'P0040056', 'P0040057', 'P0040058', 'P0040059', 'P0040060', 'P0040061',\n",
      "       'P0040062', 'P0040063', 'P0040064', 'P0040065', 'P0040066', 'P0040067',\n",
      "       'P0040068', 'P0040069', 'P0040070', 'P0040071', 'P0040072', 'P0040073',\n",
      "       'geometry'],\n",
      "      dtype='object')\n",
      "Index(['STATEFP', 'COUNTYFP', 'VTDST', 'NAME', 'G20PRERTRU', 'G20PREDBID',\n",
      "       'G20PRELJOR', 'G20PREOWES', 'G20PREOOTH', 'G20USSRCAS', 'G20USSRMUR',\n",
      "       'G20USSDPER', 'G20USSDEDW', 'G20USSDPIE', 'G20USSDKNI', 'G20USSDWEN',\n",
      "       'G20USSLSIG', 'G20USSIMEN', 'G20USSOPRI', 'G20USSOJOH', 'G20USSNBIL',\n",
      "       'G20USSNBOU', 'G20USSNMON', 'G20USSNDAR', 'geometry'],\n",
      "      dtype='object')\n",
      "Index(['OBJECTID', 'DISTRICT_I', 'NAME', 'NUM_MEMBER', 'IDEAL_POP',\n",
      "       'IS_LOCKED', 'SHAPE_AREA', 'SHAPE_LEN', 'geometry'],\n",
      "      dtype='object')\n"
     ]
    }
   ],
   "source": [
    "print(population_df.columns)\n",
    "print(vap_df.columns)\n",
    "print(election_df.columns)\n",
    "print(cong_df.columns)"
   ]
  },
  {
   "cell_type": "code",
   "execution_count": 7,
   "id": "3c23df4d-fbbd-4e62-8e71-c35f371c9432",
   "metadata": {},
   "outputs": [
    {
     "name": "stdout",
     "output_type": "stream",
     "text": [
      "(142874, 79)\n",
      "(142874, 79)\n",
      "(3753, 25)\n",
      "(6, 9)\n"
     ]
    }
   ],
   "source": [
    "print(population_df.shape)\n",
    "print(vap_df.shape)\n",
    "print(election_df.shape)\n",
    "print(cong_df.shape)"
   ]
  },
  {
   "cell_type": "code",
   "execution_count": 8,
   "id": "c67dd6fb-d5cb-4e5d-9f20-726d4860f9b6",
   "metadata": {},
   "outputs": [
    {
     "name": "stdout",
     "output_type": "stream",
     "text": [
      "   OBJECTID  DISTRICT_I        NAME  NUM_MEMBER  IDEAL_POP  IS_LOCKED  \\\n",
      "0         1           1  District 1           1     776292          0   \n",
      "1         2           2  District 2           1     776292          1   \n",
      "2         3           3  District 3           1     776292          0   \n",
      "3         4           4  District 4           1     776292          0   \n",
      "4         5           5  District 5           1     776292          0   \n",
      "5         6           6  District 6           1     776292          0   \n",
      "\n",
      "   SHAPE_AREA  SHAPE_LEN                                           geometry  \n",
      "0    2.052146  13.040607  POLYGON ((-90.25170 30.71172, -90.24707 30.710...  \n",
      "1    0.578006   8.192319  POLYGON ((-91.67661 30.49756, -91.67506 30.497...  \n",
      "2    2.568008  13.348879  POLYGON ((-91.65466 30.45434, -91.64773 30.449...  \n",
      "3    3.712209  24.135723  POLYGON ((-93.90428 33.01957, -93.90115 33.019...  \n",
      "4    2.657801  20.480358  POLYGON ((-92.04496 33.00775, -92.03708 33.007...  \n",
      "5    1.233560  17.409487  POLYGON ((-93.83448 32.60151, -93.83287 32.600...  \n"
     ]
    }
   ],
   "source": [
    "print(cong_df)"
   ]
  },
  {
   "cell_type": "code",
   "execution_count": 9,
   "id": "88a7d0c2-1b91-4c3f-8bd4-2bdd96c5b854",
   "metadata": {},
   "outputs": [
    {
     "data": {
      "text/plain": [
       "OBJECTID         int64\n",
       "DISTRICT_I       int64\n",
       "NAME            object\n",
       "NUM_MEMBER       int64\n",
       "IDEAL_POP        int64\n",
       "IS_LOCKED        int64\n",
       "SHAPE_AREA     float64\n",
       "SHAPE_LEN      float64\n",
       "geometry      geometry\n",
       "dtype: object"
      ]
     },
     "execution_count": 9,
     "metadata": {},
     "output_type": "execute_result"
    }
   ],
   "source": [
    "cong_df.dtypes"
   ]
  },
  {
   "cell_type": "code",
   "execution_count": 10,
   "id": "71af7182-ef0b-4d16-83a2-c899773e67e3",
   "metadata": {},
   "outputs": [],
   "source": [
    "district_col_name = \"DISTRICT_I\""
   ]
  },
  {
   "cell_type": "markdown",
   "id": "89787a9e-e8db-44a0-a00e-0fe400772e04",
   "metadata": {},
   "source": [
    "Assign blocks to precincts"
   ]
  },
  {
   "cell_type": "code",
   "execution_count": 11,
   "id": "6d6d15c2-62ff-4457-9cb9-ea12f4440846",
   "metadata": {
    "scrolled": true
   },
   "outputs": [
    {
     "name": "stderr",
     "output_type": "stream",
     "text": [
      "100%|██████████████████████████████████████| 3753/3753 [00:19<00:00, 188.20it/s]\n",
      "100%|█████████████████████████████████████| 3753/3753 [00:02<00:00, 1450.84it/s]\n",
      "/Users/travisoleson/anaconda3/envs/ei/lib/python3.11/site-packages/maup/intersections.py:47: UserWarning: Geometry is in a geographic CRS. Results from 'area' are likely incorrect. Use 'GeoSeries.to_crs()' to re-project geometries to a projected CRS before this operation.\n",
      "\n",
      "  df = df[df.area > area_cutoff].reset_index(drop=True)\n",
      "/Users/travisoleson/anaconda3/envs/ei/lib/python3.11/site-packages/maup/intersections.py:48: UserWarning: Geometry is in a geographic CRS. Results from 'area' are likely incorrect. Use 'GeoSeries.to_crs()' to re-project geometries to a projected CRS before this operation.\n",
      "\n",
      "  geometries = geometries[geometries.area > area_cutoff]\n",
      "/Users/travisoleson/anaconda3/envs/ei/lib/python3.11/site-packages/maup/assign.py:38: UserWarning: Geometry is in a geographic CRS. Results from 'area' are likely incorrect. Use 'GeoSeries.to_crs()' to re-project geometries to a projected CRS before this operation.\n",
      "\n",
      "  return assign_to_max(intersections(sources, targets, area_cutoff=0).area)\n",
      "100%|██████████████████████████████████████| 3753/3753 [00:19<00:00, 188.31it/s]\n",
      "100%|█████████████████████████████████████| 3753/3753 [00:02<00:00, 1450.61it/s]\n",
      "/Users/travisoleson/anaconda3/envs/ei/lib/python3.11/site-packages/maup/intersections.py:47: UserWarning: Geometry is in a geographic CRS. Results from 'area' are likely incorrect. Use 'GeoSeries.to_crs()' to re-project geometries to a projected CRS before this operation.\n",
      "\n",
      "  df = df[df.area > area_cutoff].reset_index(drop=True)\n",
      "/Users/travisoleson/anaconda3/envs/ei/lib/python3.11/site-packages/maup/intersections.py:48: UserWarning: Geometry is in a geographic CRS. Results from 'area' are likely incorrect. Use 'GeoSeries.to_crs()' to re-project geometries to a projected CRS before this operation.\n",
      "\n",
      "  geometries = geometries[geometries.area > area_cutoff]\n",
      "/Users/travisoleson/anaconda3/envs/ei/lib/python3.11/site-packages/maup/assign.py:38: UserWarning: Geometry is in a geographic CRS. Results from 'area' are likely incorrect. Use 'GeoSeries.to_crs()' to re-project geometries to a projected CRS before this operation.\n",
      "\n",
      "  return assign_to_max(intersections(sources, targets, area_cutoff=0).area)\n"
     ]
    }
   ],
   "source": [
    "blocks_to_precincts_assignment = maup.assign(population_df.geometry, election_df.geometry)\n",
    "vap_blocks_to_precincts_assignment = maup.assign(vap_df.geometry, election_df.geometry)"
   ]
  },
  {
   "cell_type": "markdown",
   "id": "ce278c67-12c5-4c1f-959a-cd404d46527f",
   "metadata": {},
   "source": [
    "Assign population columns of interest to election dataframe"
   ]
  },
  {
   "cell_type": "code",
   "execution_count": 12,
   "id": "01735419-7b04-4420-bea9-fcad86eea872",
   "metadata": {},
   "outputs": [],
   "source": [
    "pop_column_names = ['P0020001', 'P0020002', 'P0020005', 'P0020006', 'P0020007',\n",
    "                    'P0020008', 'P0020009', 'P0020010', 'P0020011']"
   ]
  },
  {
   "cell_type": "code",
   "execution_count": 13,
   "id": "4d79ebdd-4e65-48c2-9525-8edb23445ebc",
   "metadata": {},
   "outputs": [],
   "source": [
    "vap_column_names = ['P0040001', 'P0040002', 'P0040005', 'P0040006', 'P0040007',\n",
    "                    'P0040008', 'P0040009', 'P0040010', 'P0040011']"
   ]
  },
  {
   "cell_type": "code",
   "execution_count": 14,
   "id": "49b62e8a-76ee-4a47-ad53-0b653c479ef2",
   "metadata": {},
   "outputs": [],
   "source": [
    "for name in pop_column_names:\n",
    "    election_df[name] = population_df[name].groupby(blocks_to_precincts_assignment).sum()\n",
    "for name in vap_column_names:\n",
    "    election_df[name] = vap_df[name].groupby(vap_blocks_to_precincts_assignment).sum()"
   ]
  },
  {
   "cell_type": "markdown",
   "id": "0dff2baa-cbd0-4204-adce-2e2b47d5bd67",
   "metadata": {},
   "source": [
    "Verify no population loss"
   ]
  },
  {
   "cell_type": "code",
   "execution_count": 15,
   "id": "a93eb75b-1de5-4367-89ae-a8f241cdd5b2",
   "metadata": {},
   "outputs": [
    {
     "name": "stdout",
     "output_type": "stream",
     "text": [
      "4657757\n",
      "4657757\n",
      "3570548\n",
      "3570548\n"
     ]
    }
   ],
   "source": [
    "print(population_df['P0020001'].sum())\n",
    "print(election_df['P0020001'].sum())\n",
    "print(vap_df['P0040001'].sum())\n",
    "print(election_df['P0040001'].sum())"
   ]
  },
  {
   "cell_type": "code",
   "execution_count": 16,
   "id": "5d9e51f6-b633-42f5-9243-d971083fa86e",
   "metadata": {},
   "outputs": [
    {
     "name": "stderr",
     "output_type": "stream",
     "text": [
      "100%|██████████████████████████████████████| 3753/3753 [00:06<00:00, 561.88it/s]\n",
      "/Users/travisoleson/anaconda3/envs/ei/lib/python3.11/site-packages/maup/repair.py:331: UserWarning: Geometry is in a geographic CRS. Results from 'area' are likely incorrect. Use 'GeoSeries.to_crs()' to re-project geometries to a projected CRS before this operation.\n",
      "\n",
      "  overlaps = inters[inters.area > 0].make_valid()\n"
     ]
    },
    {
     "name": "stdout",
     "output_type": "stream",
     "text": [
      "There are 1 holes.\n"
     ]
    }
   ],
   "source": [
    "health_check = maup.doctor(election_df)"
   ]
  },
  {
   "cell_type": "code",
   "execution_count": 17,
   "id": "49634981-dd36-4a53-8ab4-eb8bba724ed2",
   "metadata": {},
   "outputs": [],
   "source": [
    "election_df = election_df.to_crs(population_df.estimate_utm_crs())\n",
    "vap_df = vap_df.to_crs(population_df.estimate_utm_crs())\n",
    "cong_df = cong_df.to_crs(population_df.estimate_utm_crs())"
   ]
  },
  {
   "cell_type": "code",
   "execution_count": 18,
   "id": "0771adfb-0bdf-4350-ae44-7d1e0acdf6c0",
   "metadata": {},
   "outputs": [
    {
     "name": "stderr",
     "output_type": "stream",
     "text": [
      "/Users/travisoleson/anaconda3/envs/ei/lib/python3.11/site-packages/maup/smart_repair.py:95: FutureWarning: ChainedAssignmentError: behaviour will change in pandas 3.0!\n",
      "You are setting values through chained assignment. Currently this works in certain cases, but when using Copy-on-Write (which will become the default behaviour in pandas 3.0) this will never work to update the original DataFrame or Series, because the intermediate object on which we are setting values will behave as a copy.\n",
      "A typical example is when you are setting values in a column of a DataFrame, like:\n",
      "\n",
      "df[\"col\"][row_indexer] = value\n",
      "\n",
      "Use `df.loc[row_indexer, \"col\"] = values` instead, to perform the assignment in a single step and ensure this keeps updating the original `df`.\n",
      "\n",
      "See the caveats in the documentation: https://pandas.pydata.org/pandas-docs/stable/user_guide/indexing.html#returning-a-view-versus-a-copy\n",
      "\n",
      "  geometries_df[\"geometry\"][i] = shapely.wkb.loads(\n",
      "/Users/travisoleson/anaconda3/envs/ei/lib/python3.11/site-packages/maup/smart_repair.py:125: FutureWarning: ChainedAssignmentError: behaviour will change in pandas 3.0!\n",
      "You are setting values through chained assignment. Currently this works in certain cases, but when using Copy-on-Write (which will become the default behaviour in pandas 3.0) this will never work to update the original DataFrame or Series, because the intermediate object on which we are setting values will behave as a copy.\n",
      "A typical example is when you are setting values in a column of a DataFrame, like:\n",
      "\n",
      "df[\"col\"][row_indexer] = value\n",
      "\n",
      "Use `df.loc[row_indexer, \"col\"] = values` instead, to perform the assignment in a single step and ensure this keeps updating the original `df`.\n",
      "\n",
      "See the caveats in the documentation: https://pandas.pydata.org/pandas-docs/stable/user_guide/indexing.html#returning-a-view-versus-a-copy\n",
      "\n",
      "  geometries_df[\"geometry\"][i] = make_valid(geometries_df[\"geometry\"][i])\n",
      "/Users/travisoleson/anaconda3/envs/ei/lib/python3.11/site-packages/maup/smart_repair.py:129: FutureWarning: ChainedAssignmentError: behaviour will change in pandas 3.0!\n",
      "You are setting values through chained assignment. Currently this works in certain cases, but when using Copy-on-Write (which will become the default behaviour in pandas 3.0) this will never work to update the original DataFrame or Series, because the intermediate object on which we are setting values will behave as a copy.\n",
      "A typical example is when you are setting values in a column of a DataFrame, like:\n",
      "\n",
      "df[\"col\"][row_indexer] = value\n",
      "\n",
      "Use `df.loc[row_indexer, \"col\"] = values` instead, to perform the assignment in a single step and ensure this keeps updating the original `df`.\n",
      "\n",
      "See the caveats in the documentation: https://pandas.pydata.org/pandas-docs/stable/user_guide/indexing.html#returning-a-view-versus-a-copy\n",
      "\n",
      "  geometries_df[\"geometry\"][i] = unary_union([x for x in geometries_df[\"geometry\"][i].geoms if x.geom_type in (\"Polygon\", \"MultiPolygon\")])\n",
      "/Users/travisoleson/anaconda3/envs/ei/lib/python3.11/site-packages/maup/smart_repair.py:149: FutureWarning: ChainedAssignmentError: behaviour will change in pandas 3.0!\n",
      "You are setting values through chained assignment. Currently this works in certain cases, but when using Copy-on-Write (which will become the default behaviour in pandas 3.0) this will never work to update the original DataFrame or Series, because the intermediate object on which we are setting values will behave as a copy.\n",
      "A typical example is when you are setting values in a column of a DataFrame, like:\n",
      "\n",
      "df[\"col\"][row_indexer] = value\n",
      "\n",
      "Use `df.loc[row_indexer, \"col\"] = values` instead, to perform the assignment in a single step and ensure this keeps updating the original `df`.\n",
      "\n",
      "See the caveats in the documentation: https://pandas.pydata.org/pandas-docs/stable/user_guide/indexing.html#returning-a-view-versus-a-copy\n",
      "\n",
      "  geometries_df[\"geometry\"][i] = make_valid(geometries_df[\"geometry\"][i])\n",
      "/Users/travisoleson/anaconda3/envs/ei/lib/python3.11/site-packages/maup/smart_repair.py:151: FutureWarning: ChainedAssignmentError: behaviour will change in pandas 3.0!\n",
      "You are setting values through chained assignment. Currently this works in certain cases, but when using Copy-on-Write (which will become the default behaviour in pandas 3.0) this will never work to update the original DataFrame or Series, because the intermediate object on which we are setting values will behave as a copy.\n",
      "A typical example is when you are setting values in a column of a DataFrame, like:\n",
      "\n",
      "df[\"col\"][row_indexer] = value\n",
      "\n",
      "Use `df.loc[row_indexer, \"col\"] = values` instead, to perform the assignment in a single step and ensure this keeps updating the original `df`.\n",
      "\n",
      "See the caveats in the documentation: https://pandas.pydata.org/pandas-docs/stable/user_guide/indexing.html#returning-a-view-versus-a-copy\n",
      "\n",
      "  geometries_df[\"geometry\"][i] = unary_union([x for x in geometries_df[\"geometry\"][i].geoms if x.geom_type in (\"Polygon\", \"MultiPolygon\")])\n"
     ]
    },
    {
     "name": "stdout",
     "output_type": "stream",
     "text": [
      "Snapping all geometries to a grid with precision 10^( -5 ) to avoid GEOS errors.\n"
     ]
    },
    {
     "name": "stderr",
     "output_type": "stream",
     "text": [
      "/Users/travisoleson/anaconda3/envs/ei/lib/python3.11/site-packages/maup/smart_repair.py:372: FutureWarning: ChainedAssignmentError: behaviour will change in pandas 3.0!\n",
      "You are setting values through chained assignment. Currently this works in certain cases, but when using Copy-on-Write (which will become the default behaviour in pandas 3.0) this will never work to update the original DataFrame or Series, because the intermediate object on which we are setting values will behave as a copy.\n",
      "A typical example is when you are setting values in a column of a DataFrame, like:\n",
      "\n",
      "df[\"col\"][row_indexer] = value\n",
      "\n",
      "Use `df.loc[row_indexer, \"col\"] = values` instead, to perform the assignment in a single step and ensure this keeps updating the original `df`.\n",
      "\n",
      "See the caveats in the documentation: https://pandas.pydata.org/pandas-docs/stable/user_guide/indexing.html#returning-a-view-versus-a-copy\n",
      "\n",
      "  pieces_df[\"polygon indices\"][i] = set()\n"
     ]
    },
    {
     "name": "stdout",
     "output_type": "stream",
     "text": [
      "Identifying overlaps...\n"
     ]
    },
    {
     "name": "stderr",
     "output_type": "stream",
     "text": [
      "  0%|                                                  | 0/3798 [00:00<?, ?it/s]/Users/travisoleson/anaconda3/envs/ei/lib/python3.11/site-packages/maup/smart_repair.py:415: FutureWarning: ChainedAssignmentError: behaviour will change in pandas 3.0!\n",
      "You are setting values through chained assignment. Currently this works in certain cases, but when using Copy-on-Write (which will become the default behaviour in pandas 3.0) this will never work to update the original DataFrame or Series, because the intermediate object on which we are setting values will behave as a copy.\n",
      "A typical example is when you are setting values in a column of a DataFrame, like:\n",
      "\n",
      "df[\"col\"][row_indexer] = value\n",
      "\n",
      "Use `df.loc[row_indexer, \"col\"] = values` instead, to perform the assignment in a single step and ensure this keeps updating the original `df`.\n",
      "\n",
      "See the caveats in the documentation: https://pandas.pydata.org/pandas-docs/stable/user_guide/indexing.html#returning-a-view-versus-a-copy\n",
      "\n",
      "  pieces_df[\"polygon indices\"][i] = pieces_df[\"polygon indices\"][i].union({j})\n",
      "100%|█████████████████████████████████████| 3798/3798 [00:02<00:00, 1479.88it/s]\n",
      "/Users/travisoleson/anaconda3/envs/ei/lib/python3.11/site-packages/maup/smart_repair.py:487: FutureWarning: ChainedAssignmentError: behaviour will change in pandas 3.0!\n",
      "You are setting values through chained assignment. Currently this works in certain cases, but when using Copy-on-Write (which will become the default behaviour in pandas 3.0) this will never work to update the original DataFrame or Series, because the intermediate object on which we are setting values will behave as a copy.\n",
      "A typical example is when you are setting values in a column of a DataFrame, like:\n",
      "\n",
      "df[\"col\"][row_indexer] = value\n",
      "\n",
      "Use `df.loc[row_indexer, \"col\"] = values` instead, to perform the assignment in a single step and ensure this keeps updating the original `df`.\n",
      "\n",
      "See the caveats in the documentation: https://pandas.pydata.org/pandas-docs/stable/user_guide/indexing.html#returning-a-view-versus-a-copy\n",
      "\n",
      "  geometries_df[\"geometry\"][this_poly_ind] = unary_union([geometries_df[\"geometry\"][this_poly_ind], this_piece])\n"
     ]
    },
    {
     "name": "stdout",
     "output_type": "stream",
     "text": [
      "Resolving overlaps...\n"
     ]
    },
    {
     "name": "stderr",
     "output_type": "stream",
     "text": [
      "/Users/travisoleson/anaconda3/envs/ei/lib/python3.11/site-packages/maup/smart_repair.py:496: FutureWarning: ChainedAssignmentError: behaviour will change in pandas 3.0!\n",
      "You are setting values through chained assignment. Currently this works in certain cases, but when using Copy-on-Write (which will become the default behaviour in pandas 3.0) this will never work to update the original DataFrame or Series, because the intermediate object on which we are setting values will behave as a copy.\n",
      "A typical example is when you are setting values in a column of a DataFrame, like:\n",
      "\n",
      "df[\"col\"][row_indexer] = value\n",
      "\n",
      "Use `df.loc[row_indexer, \"col\"] = values` instead, to perform the assignment in a single step and ensure this keeps updating the original `df`.\n",
      "\n",
      "See the caveats in the documentation: https://pandas.pydata.org/pandas-docs/stable/user_guide/indexing.html#returning-a-view-versus-a-copy\n",
      "\n",
      "  geometries_df[\"num components orig\"][ind] = num_components(geometries0_df[\"geometry\"][ind])\n",
      "/Users/travisoleson/anaconda3/envs/ei/lib/python3.11/site-packages/maup/smart_repair.py:497: FutureWarning: ChainedAssignmentError: behaviour will change in pandas 3.0!\n",
      "You are setting values through chained assignment. Currently this works in certain cases, but when using Copy-on-Write (which will become the default behaviour in pandas 3.0) this will never work to update the original DataFrame or Series, because the intermediate object on which we are setting values will behave as a copy.\n",
      "A typical example is when you are setting values in a column of a DataFrame, like:\n",
      "\n",
      "df[\"col\"][row_indexer] = value\n",
      "\n",
      "Use `df.loc[row_indexer, \"col\"] = values` instead, to perform the assignment in a single step and ensure this keeps updating the original `df`.\n",
      "\n",
      "See the caveats in the documentation: https://pandas.pydata.org/pandas-docs/stable/user_guide/indexing.html#returning-a-view-versus-a-copy\n",
      "\n",
      "  geometries_df[\"num components refined\"][ind] = num_components(geometries_df[\"geometry\"][ind])\n"
     ]
    },
    {
     "name": "stdout",
     "output_type": "stream",
     "text": [
      "Assigning order 2 pieces...\n"
     ]
    },
    {
     "name": "stderr",
     "output_type": "stream",
     "text": [
      "/Users/travisoleson/anaconda3/envs/ei/lib/python3.11/site-packages/maup/smart_repair.py:563: FutureWarning: ChainedAssignmentError: behaviour will change in pandas 3.0!\n",
      "You are setting values through chained assignment. Currently this works in certain cases, but when using Copy-on-Write (which will become the default behaviour in pandas 3.0) this will never work to update the original DataFrame or Series, because the intermediate object on which we are setting values will behave as a copy.\n",
      "A typical example is when you are setting values in a column of a DataFrame, like:\n",
      "\n",
      "df[\"col\"][row_indexer] = value\n",
      "\n",
      "Use `df.loc[row_indexer, \"col\"] = values` instead, to perform the assignment in a single step and ensure this keeps updating the original `df`.\n",
      "\n",
      "See the caveats in the documentation: https://pandas.pydata.org/pandas-docs/stable/user_guide/indexing.html#returning-a-view-versus-a-copy\n",
      "\n",
      "  geometries_df[\"geometry\"][poly_to_add_to] = unary_union(\n"
     ]
    },
    {
     "name": "stdout",
     "output_type": "stream",
     "text": [
      "Filling gaps...\n"
     ]
    },
    {
     "name": "stderr",
     "output_type": "stream",
     "text": [
      "Gaps to simplify: 0it [00:00, ?it/s]\n",
      "Gaps to fill: 0it [00:00, ?it/s]\n"
     ]
    }
   ],
   "source": [
    "if not health_check:\n",
    "    election_df = maup.smart_repair(election_df)"
   ]
  },
  {
   "cell_type": "code",
   "execution_count": 19,
   "id": "42596644-d6a0-4558-833d-04550954cc7f",
   "metadata": {},
   "outputs": [],
   "source": [
    "population_df = population_df.to_crs(population_df.estimate_utm_crs())\n",
    "election_df = election_df.to_crs(population_df.estimate_utm_crs())\n",
    "vap_df = vap_df.to_crs(population_df.estimate_utm_crs())\n",
    "cong_df = cong_df.to_crs(population_df.estimate_utm_crs())"
   ]
  },
  {
   "cell_type": "code",
   "execution_count": 20,
   "id": "d4ebf72b-5e5a-4ecb-bebf-48ce12675060",
   "metadata": {},
   "outputs": [
    {
     "name": "stderr",
     "output_type": "stream",
     "text": [
      "100%|██████████████████████████████████████| 3753/3753 [00:06<00:00, 542.81it/s]\n",
      "100%|██████████████████████████████████████| 3753/3753 [00:29<00:00, 125.42it/s]\n",
      "100%|██████████████████████████████████████| 3753/3753 [00:07<00:00, 482.61it/s]\n",
      "100%|██████████████████████████████████████| 3753/3753 [00:28<00:00, 129.53it/s]\n"
     ]
    }
   ],
   "source": [
    "blocks_to_precincts_assignment = maup.assign(population_df.geometry, election_df.geometry)\n",
    "vap_blocks_to_precincts_assignment = maup.assign(vap_df.geometry, election_df.geometry)"
   ]
  },
  {
   "cell_type": "code",
   "execution_count": 21,
   "id": "d2ebb93c-3e7b-44b7-9d6b-8cb229c16014",
   "metadata": {},
   "outputs": [
    {
     "name": "stderr",
     "output_type": "stream",
     "text": [
      "100%|██████████████████████████████████████| 3753/3753 [00:06<00:00, 576.25it/s]\n"
     ]
    },
    {
     "name": "stdout",
     "output_type": "stream",
     "text": [
      "True\n"
     ]
    }
   ],
   "source": [
    "health_check = maup.doctor(election_df)\n",
    "print(health_check)"
   ]
  },
  {
   "cell_type": "markdown",
   "id": "135606fb-5f49-4ea5-b715-99ed9065cdf3",
   "metadata": {},
   "source": [
    "Add district assignment to dataframe"
   ]
  },
  {
   "cell_type": "code",
   "execution_count": 22,
   "id": "fa3028b4-92c3-40cd-8e1d-6f72f62c453d",
   "metadata": {},
   "outputs": [
    {
     "name": "stderr",
     "output_type": "stream",
     "text": [
      "100%|█████████████████████████████████████████████| 6/6 [00:00<00:00, 27.89it/s]\n",
      "100%|█████████████████████████████████████████████| 6/6 [00:02<00:00,  2.09it/s]\n"
     ]
    }
   ],
   "source": [
    "precincts_to_districts_assignment = maup.assign(election_df[\"geometry\"], cong_df[\"geometry\"])\n",
    "election_df[\"CD\"] = precincts_to_districts_assignment"
   ]
  },
  {
   "cell_type": "code",
   "execution_count": 23,
   "id": "7fce69ea-7515-4b7a-9f4f-8c03acf61bd7",
   "metadata": {},
   "outputs": [
    {
     "name": "stdout",
     "output_type": "stream",
     "text": [
      "{0, 1, 2, 3, 4, 5}\n",
      "{1, 2, 3, 4, 5, 6}\n",
      "{1, 2, 3, 4, 5, 6}\n"
     ]
    }
   ],
   "source": [
    "print(set(election_df[\"CD\"]))\n",
    "for precinct_index in range(len(election_df)):\n",
    "    election_df.at[precinct_index, \"CD\"] = cong_df.at[election_df.at[precinct_index, \"CD\"], district_col_name]\n",
    "print(set(cong_df[district_col_name]))\n",
    "print(set(election_df[\"CD\"]))"
   ]
  },
  {
   "cell_type": "code",
   "execution_count": 24,
   "id": "6865fc8c-e7bf-49c7-b4f7-56a8777d72ba",
   "metadata": {},
   "outputs": [],
   "source": [
    "rename_dict = {'P0020001': 'TOTPOP', 'P0020002': 'HISP', 'P0020005': 'NH_WHITE', 'P0020006': 'NH_BLACK', 'P0020007': 'NH_AMIN',\n",
    "                    'P0020008': 'NH_ASIAN', 'P0020009': 'NH_NHPI', 'P0020010': 'NH_OTHER', 'P0020011': 'NH_2MORE',\n",
    "                    'P0040001': 'VAP', 'P0040002': 'HVAP', 'P0040005': 'WVAP', 'P0040006': 'BVAP', 'P0040007': 'AMINVAP',\n",
    "                                        'P0040008': 'ASIANVAP', 'P0040009': 'NHPIVAP', 'P0040010': 'OTHERVAP', 'P0040011': '2MOREVAP',\n",
    "                                        'G20PREDBID': 'G20PRED', 'G20PRERTRU': 'G20PRER', 'G20USSDDUR': 'G20USSD', \n",
    "                                        'G20USSRCUR': 'G20USSR'}"
   ]
  },
  {
   "cell_type": "code",
   "execution_count": 25,
   "id": "375267e2-f053-4b83-9fea-19f1573a5a00",
   "metadata": {},
   "outputs": [
    {
     "data": {
      "text/plain": [
       "['STATEFP',\n",
       " 'COUNTYFP',\n",
       " 'VTDST',\n",
       " 'NAME',\n",
       " 'G20PRERTRU',\n",
       " 'G20PREDBID',\n",
       " 'G20PRELJOR',\n",
       " 'G20PREOWES',\n",
       " 'G20PREOOTH',\n",
       " 'G20USSRCAS',\n",
       " 'G20USSRMUR',\n",
       " 'G20USSDPER',\n",
       " 'G20USSDEDW',\n",
       " 'G20USSDPIE',\n",
       " 'G20USSDKNI',\n",
       " 'G20USSDWEN',\n",
       " 'G20USSLSIG',\n",
       " 'G20USSIMEN',\n",
       " 'G20USSOPRI',\n",
       " 'G20USSOJOH',\n",
       " 'G20USSNBIL',\n",
       " 'G20USSNBOU',\n",
       " 'G20USSNMON',\n",
       " 'G20USSNDAR',\n",
       " 'geometry',\n",
       " 'P0020001',\n",
       " 'P0020002',\n",
       " 'P0020005',\n",
       " 'P0020006',\n",
       " 'P0020007',\n",
       " 'P0020008',\n",
       " 'P0020009',\n",
       " 'P0020010',\n",
       " 'P0020011',\n",
       " 'P0040001',\n",
       " 'P0040002',\n",
       " 'P0040005',\n",
       " 'P0040006',\n",
       " 'P0040007',\n",
       " 'P0040008',\n",
       " 'P0040009',\n",
       " 'P0040010',\n",
       " 'P0040011',\n",
       " 'CD']"
      ]
     },
     "execution_count": 25,
     "metadata": {},
     "output_type": "execute_result"
    }
   ],
   "source": [
    "list(election_df.columns)"
   ]
  },
  {
   "cell_type": "code",
   "execution_count": 26,
   "id": "a84747fd-8c4a-43a3-80dd-65ee0212ac75",
   "metadata": {},
   "outputs": [
    {
     "data": {
      "text/plain": [
       "['STATEFP',\n",
       " 'COUNTYFP',\n",
       " 'VTDST',\n",
       " 'NAME',\n",
       " 'G20PRER',\n",
       " 'G20PRED',\n",
       " 'G20PRELJOR',\n",
       " 'G20PREOWES',\n",
       " 'G20PREOOTH',\n",
       " 'G20USSRCAS',\n",
       " 'G20USSRMUR',\n",
       " 'G20USSDPER',\n",
       " 'G20USSDEDW',\n",
       " 'G20USSDPIE',\n",
       " 'G20USSDKNI',\n",
       " 'G20USSDWEN',\n",
       " 'G20USSLSIG',\n",
       " 'G20USSIMEN',\n",
       " 'G20USSOPRI',\n",
       " 'G20USSOJOH',\n",
       " 'G20USSNBIL',\n",
       " 'G20USSNBOU',\n",
       " 'G20USSNMON',\n",
       " 'G20USSNDAR',\n",
       " 'geometry',\n",
       " 'TOTPOP',\n",
       " 'HISP',\n",
       " 'NH_WHITE',\n",
       " 'NH_BLACK',\n",
       " 'NH_AMIN',\n",
       " 'NH_ASIAN',\n",
       " 'NH_NHPI',\n",
       " 'NH_OTHER',\n",
       " 'NH_2MORE',\n",
       " 'VAP',\n",
       " 'HVAP',\n",
       " 'WVAP',\n",
       " 'BVAP',\n",
       " 'AMINVAP',\n",
       " 'ASIANVAP',\n",
       " 'NHPIVAP',\n",
       " 'OTHERVAP',\n",
       " '2MOREVAP',\n",
       " 'CD']"
      ]
     },
     "execution_count": 26,
     "metadata": {},
     "output_type": "execute_result"
    }
   ],
   "source": [
    "election_df.rename(columns=rename_dict, inplace = True)\n",
    "list(election_df.columns)"
   ]
  },
  {
   "cell_type": "code",
   "execution_count": 27,
   "id": "35c46c76-1f19-4982-8ead-bdaf2c5677c6",
   "metadata": {},
   "outputs": [
    {
     "data": {
      "text/plain": [
       "['STATEFP',\n",
       " 'COUNTYFP',\n",
       " 'VTDST',\n",
       " 'NAME',\n",
       " 'G20PRER',\n",
       " 'G20PRED',\n",
       " 'G20USSRCAS',\n",
       " 'G20USSRMUR',\n",
       " 'G20USSDPER',\n",
       " 'G20USSDEDW',\n",
       " 'G20USSDPIE',\n",
       " 'G20USSDKNI',\n",
       " 'G20USSDWEN',\n",
       " 'geometry',\n",
       " 'TOTPOP',\n",
       " 'HISP',\n",
       " 'NH_WHITE',\n",
       " 'NH_BLACK',\n",
       " 'NH_AMIN',\n",
       " 'NH_ASIAN',\n",
       " 'NH_NHPI',\n",
       " 'NH_OTHER',\n",
       " 'NH_2MORE',\n",
       " 'VAP',\n",
       " 'HVAP',\n",
       " 'WVAP',\n",
       " 'BVAP',\n",
       " 'AMINVAP',\n",
       " 'ASIANVAP',\n",
       " 'NHPIVAP',\n",
       " 'OTHERVAP',\n",
       " '2MOREVAP',\n",
       " 'CD']"
      ]
     },
     "execution_count": 27,
     "metadata": {},
     "output_type": "execute_result"
    }
   ],
   "source": [
    "election_df.drop(columns=['G20PRELJOR', 'G20PREOWES', 'G20PREOOTH', 'G20USSLSIG', 'G20USSIMEN', 'G20USSOPRI', 'G20USSOJOH', 'G20USSNBIL', 'G20USSNBOU', 'G20USSNMON','G20USSNDAR',], inplace=True)\n",
    "list(election_df.columns)"
   ]
  },
  {
   "cell_type": "code",
   "execution_count": 28,
   "id": "0caadaf0-3edf-4df5-b382-cdf7b6caad0d",
   "metadata": {},
   "outputs": [
    {
     "data": {
      "text/plain": [
       "<Axes: >"
      ]
     },
     "execution_count": 28,
     "metadata": {},
     "output_type": "execute_result"
    },
    {
     "data": {
      "image/png": "[encoded data removed]",
      "text/plain": [
       "<Figure size 640x480 with 1 Axes>"
      ]
     },
     "metadata": {},
     "output_type": "display_data"
    }
   ],
   "source": [
    "election_df.plot()"
   ]
  },
  {
   "cell_type": "code",
   "execution_count": 29,
   "id": "02f9c471-4504-4d2f-9ec2-92d58727f025",
   "metadata": {},
   "outputs": [
    {
     "name": "stdout",
     "output_type": "stream",
     "text": [
      "777807\n",
      "774002\n",
      "[777807, 774002, 774826, 778180, 777183, 775759, 0, 0, 0, 0, 0, 0, 0, 0, 0, 0, 0]\n"
     ]
    }
   ],
   "source": [
    "print(election_df.loc[election_df[\"CD\"] == 1, \"TOTPOP\"].sum())\n",
    "print(election_df.loc[election_df[\"CD\"] == 2, \"TOTPOP\"].sum())\n",
    "pop_vals = [election_df.loc[election_df[\"CD\"] == n, \"TOTPOP\"].sum() for n in range(1, 18)]\n",
    "print(pop_vals)"
   ]
  },
  {
   "cell_type": "code",
   "execution_count": 30,
   "id": "63596e70-db20-40f9-9c5a-6c5dc6c067c8",
   "metadata": {},
   "outputs": [],
   "source": [
    "election_df.to_file(\"./LA/LA.shp\")\n",
    "shp_file = gpd.read_file('./LA/LA.shp')\n",
    "shp_file.to_file('./LA/LA.geojson', driver='GeoJSON')"
   ]
  }
 ],
 "metadata": {
  "kernelspec": {
   "display_name": "ei",
   "language": "python",
   "name": "ei"
  },
  "language_info": {
   "codemirror_mode": {
    "name": "ipython",
    "version": 3
   },
   "file_extension": ".py",
   "mimetype": "text/x-python",
   "name": "python",
   "nbconvert_exporter": "python",
   "pygments_lexer": "ipython3",
   "version": "3.11.8"
  }
 },
 "nbformat": 4,
 "nbformat_minor": 5
}
